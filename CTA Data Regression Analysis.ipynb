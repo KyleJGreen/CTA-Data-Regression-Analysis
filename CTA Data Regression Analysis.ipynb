{
 "cells": [
  {
   "cell_type": "code",
   "execution_count": 1,
   "metadata": {},
   "outputs": [],
   "source": [
    "import pandas as pd\n",
    "import matplotlib.pyplot as plt\n",
    "import numpy as np"
   ]
  },
  {
   "cell_type": "code",
   "execution_count": 2,
   "metadata": {},
   "outputs": [
    {
     "name": "stdout",
     "output_type": "stream",
     "text": [
      "\n",
      "l_station_entries\n",
      "duplicates removed: 459219\n",
      "\n",
      "missing: \n",
      "station_id     0\n",
      "stationname    0\n",
      "daytype        0\n",
      "rides          0\n",
      "dtype: int64\n",
      "\n",
      "bus_ridership\n",
      "duplicates removed: 299345\n",
      "\n",
      "missing: \n",
      "route      0\n",
      "daytype    0\n",
      "rides      0\n",
      "dtype: int64\n"
     ]
    }
   ],
   "source": [
    "# read in the bus and station data from csv files\n",
    "l_station_entries = pd.read_csv('data/CTA_-_Ridership_-__L__Station_Entries_-_Daily_Totals.csv')\n",
    "bus_ridership = pd.read_csv('data/CTA_-_Ridership_-_Bus_Routes_-_Daily_Totals_by_Route.csv')\n",
    "l_station_entries.name = 'l_station_entries'\n",
    "bus_ridership.name = 'bus_ridership'\n",
    "dataframes = [l_station_entries, bus_ridership]\n",
    "                                \n",
    "                                \n",
    "# set the index to date, drop duplicates and check for missing entries\n",
    "for df in dataframes:\n",
    "    print('\\n' + df.name)\n",
    "    \n",
    "    df.set_index('date', inplace=True) # set index to date\n",
    "    \n",
    "    # display sum of duplicates and drop them from the dataframe\n",
    "    print('duplicates removed: ' + str(sum(df.duplicated())))\n",
    "    df.drop_duplicates(inplace=True)\n",
    "    \n",
    "    # check for missing entries (fortunately, there are none for these datasets)\n",
    "    mask = df.isnull()\n",
    "    missing = mask.sum(axis=0)\n",
    "    \n",
    "    print('\\nmissing: ')\n",
    "    print(missing)"
   ]
  },
  {
   "cell_type": "code",
   "execution_count": 3,
   "metadata": {},
   "outputs": [],
   "source": [
    "# remove columns that don't provide information that is useful to our analysis\n",
    "l_station_entries_cl = l_station_entries.drop(['stationname', 'daytype'], axis=1)\n",
    "bus_ridership_cl = bus_ridership.drop('daytype', axis=1)\n",
    "clean_dfs = [l_station_entries_cl, bus_ridership_cl]"
   ]
  },
  {
   "cell_type": "code",
   "execution_count": 67,
   "metadata": {},
   "outputs": [],
   "source": [
    "# group by dates to get sums for each date (this step is provided so as to decrease number of\n",
    "# computations when the index is converted to a datetime object later)\n",
    "bus_sum_by_date = bus_ridership_cl.groupby('date').sum()\n",
    "l_sum_by_date = l_station_entries_cl.groupby('date').sum().drop('station_id', axis=1)\n",
    "date_ride_sums = [bus_sum_by_date, l_sum_by_date]\n",
    "\n",
    "# sort the data by date index and convert date to year\n",
    "for df in date_ride_sums:\n",
    "    df.index = pd.to_datetime(df.index)\n",
    "    df.sort_index(inplace=True)\n",
    "    df.index = df.index.map(lambda x : x.year)\n",
    "\n",
    "# group by dates again, now that our data is yearly\n",
    "yearly_bus_sums = bus_sum_by_date.groupby('date').sum()\n",
    "yearly_l_sums = l_sum_by_date.groupby('date').sum()\n",
    "year_ride_sums = [yearly_bus_sums, yearly_l_sums]\n",
    "\n",
    "yearly_bus_sums.rename(columns={\"rides\": \"bus_rides\"}, inplace=True)\n",
    "yearly_l_sums.rename(columns={\"rides\": \"l_rides\"}, inplace=True)\n",
    "\n",
    "yearly_sums = pd.concat([yearly_bus_sums, yearly_l_sums], axis=1, join='inner')"
   ]
  },
  {
   "cell_type": "code",
   "execution_count": 70,
   "metadata": {},
   "outputs": [
    {
     "data": {
      "text/plain": [
       "<matplotlib.axes._subplots.AxesSubplot at 0x7ff7f5f6f3d0>"
      ]
     },
     "execution_count": 70,
     "metadata": {},
     "output_type": "execute_result"
    },
    {
     "data": {
      "image/png": "[encoded data removed]",
      "text/plain": [
       "<Figure size 432x288 with 1 Axes>"
      ]
     },
     "metadata": {},
     "output_type": "display_data"
    }
   ],
   "source": [
    "yearly_sums.plot()"
   ]
  },
  {
   "cell_type": "code",
   "execution_count": null,
   "metadata": {},
   "outputs": [],
   "source": []
  }
 ],
 "metadata": {
  "kernelspec": {
   "display_name": "Python 2",
   "language": "python",
   "name": "python2"
  },
  "language_info": {
   "codemirror_mode": {
    "name": "ipython",
    "version": 2
   },
   "file_extension": ".py",
   "mimetype": "text/x-python",
   "name": "python",
   "nbconvert_exporter": "python",
   "pygments_lexer": "ipython2",
   "version": "2.7.12"
  }
 },
 "nbformat": 4,
 "nbformat_minor": 2
}
